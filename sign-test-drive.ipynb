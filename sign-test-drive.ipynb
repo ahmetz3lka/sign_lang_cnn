{
 "cells": [
  {
   "cell_type": "code",
   "execution_count": 1,
   "id": "dfdabf26",
   "metadata": {
    "_cell_guid": "b1076dfc-b9ad-4769-8c92-a6c4dae69d19",
    "_uuid": "8f2839f25d086af736a60e9eeb907d3b93b6e0e5",
    "execution": {
     "iopub.execute_input": "2023-12-24T13:02:22.884106Z",
     "iopub.status.busy": "2023-12-24T13:02:22.882694Z",
     "iopub.status.idle": "2023-12-24T13:02:23.965590Z",
     "shell.execute_reply": "2023-12-24T13:02:23.963853Z"
    },
    "papermill": {
     "duration": 1.098055,
     "end_time": "2023-12-24T13:02:23.970587",
     "exception": false,
     "start_time": "2023-12-24T13:02:22.872532",
     "status": "completed"
    },
    "tags": []
   },
   "outputs": [
    {
     "name": "stdout",
     "output_type": "stream",
     "text": [
      "/kaggle/input/sign-language-mnist/sign_mnist_test.csv\n",
      "/kaggle/input/sign-language-mnist/amer_sign2.png\n",
      "/kaggle/input/sign-language-mnist/amer_sign3.png\n",
      "/kaggle/input/sign-language-mnist/sign_mnist_train.csv\n",
      "/kaggle/input/sign-language-mnist/american_sign_language.PNG\n",
      "/kaggle/input/sign-language-mnist/sign_mnist_test/sign_mnist_test.csv\n",
      "/kaggle/input/sign-language-mnist/sign_mnist_train/sign_mnist_train.csv\n"
     ]
    }
   ],
   "source": [
    "import numpy as np\n",
    "import pandas as pd\n",
    "\n",
    "import os\n",
    "for dirname, _, filenames in os.walk('/kaggle/input'):\n",
    "    for filename in filenames:\n",
    "        print(os.path.join(dirname, filename))"
   ]
  },
  {
   "cell_type": "code",
   "execution_count": 2,
   "id": "fe975ddc",
   "metadata": {
    "execution": {
     "iopub.execute_input": "2023-12-24T13:02:23.989602Z",
     "iopub.status.busy": "2023-12-24T13:02:23.989067Z",
     "iopub.status.idle": "2023-12-24T13:02:41.645009Z",
     "shell.execute_reply": "2023-12-24T13:02:41.643605Z"
    },
    "papermill": {
     "duration": 17.669457,
     "end_time": "2023-12-24T13:02:41.648434",
     "exception": false,
     "start_time": "2023-12-24T13:02:23.978977",
     "status": "completed"
    },
    "tags": []
   },
   "outputs": [],
   "source": [
    "import matplotlib.pyplot as plt\n",
    "import seaborn as sns\n",
    "import keras\n",
    "import tensorflow as tf\n",
    "from tensorflow.keras.models import Sequential\n",
    "from tensorflow.keras.layers import Dense, Conv2D, MaxPool2D, Flatten, Dropout, BatchNormalization\n",
    "from sklearn.model_selection import train_test_split"
   ]
  },
  {
   "cell_type": "code",
   "execution_count": 3,
   "id": "5b07f596",
   "metadata": {
    "execution": {
     "iopub.execute_input": "2023-12-24T13:02:41.666628Z",
     "iopub.status.busy": "2023-12-24T13:02:41.665837Z",
     "iopub.status.idle": "2023-12-24T13:02:47.341705Z",
     "shell.execute_reply": "2023-12-24T13:02:47.340469Z"
    },
    "papermill": {
     "duration": 5.68872,
     "end_time": "2023-12-24T13:02:47.345033",
     "exception": false,
     "start_time": "2023-12-24T13:02:41.656313",
     "status": "completed"
    },
    "tags": []
   },
   "outputs": [],
   "source": [
    "train_ds = pd.read_csv('/kaggle/input/sign-language-mnist/sign_mnist_train/sign_mnist_train.csv')\n",
    "test_ds = pd.read_csv('/kaggle/input/sign-language-mnist/sign_mnist_test/sign_mnist_test.csv')"
   ]
  },
  {
   "cell_type": "code",
   "execution_count": 4,
   "id": "1105589d",
   "metadata": {
    "execution": {
     "iopub.execute_input": "2023-12-24T13:02:47.364957Z",
     "iopub.status.busy": "2023-12-24T13:02:47.364416Z",
     "iopub.status.idle": "2023-12-24T13:02:47.402316Z",
     "shell.execute_reply": "2023-12-24T13:02:47.400579Z"
    },
    "papermill": {
     "duration": 0.052106,
     "end_time": "2023-12-24T13:02:47.405818",
     "exception": false,
     "start_time": "2023-12-24T13:02:47.353712",
     "status": "completed"
    },
    "tags": []
   },
   "outputs": [
    {
     "data": {
      "text/html": [
       "<div>\n",
       "<style scoped>\n",
       "    .dataframe tbody tr th:only-of-type {\n",
       "        vertical-align: middle;\n",
       "    }\n",
       "\n",
       "    .dataframe tbody tr th {\n",
       "        vertical-align: top;\n",
       "    }\n",
       "\n",
       "    .dataframe thead th {\n",
       "        text-align: right;\n",
       "    }\n",
       "</style>\n",
       "<table border=\"1\" class=\"dataframe\">\n",
       "  <thead>\n",
       "    <tr style=\"text-align: right;\">\n",
       "      <th></th>\n",
       "      <th>label</th>\n",
       "      <th>pixel1</th>\n",
       "      <th>pixel2</th>\n",
       "      <th>pixel3</th>\n",
       "      <th>pixel4</th>\n",
       "      <th>pixel5</th>\n",
       "      <th>pixel6</th>\n",
       "      <th>pixel7</th>\n",
       "      <th>pixel8</th>\n",
       "      <th>pixel9</th>\n",
       "      <th>...</th>\n",
       "      <th>pixel775</th>\n",
       "      <th>pixel776</th>\n",
       "      <th>pixel777</th>\n",
       "      <th>pixel778</th>\n",
       "      <th>pixel779</th>\n",
       "      <th>pixel780</th>\n",
       "      <th>pixel781</th>\n",
       "      <th>pixel782</th>\n",
       "      <th>pixel783</th>\n",
       "      <th>pixel784</th>\n",
       "    </tr>\n",
       "  </thead>\n",
       "  <tbody>\n",
       "    <tr>\n",
       "      <th>0</th>\n",
       "      <td>3</td>\n",
       "      <td>107</td>\n",
       "      <td>118</td>\n",
       "      <td>127</td>\n",
       "      <td>134</td>\n",
       "      <td>139</td>\n",
       "      <td>143</td>\n",
       "      <td>146</td>\n",
       "      <td>150</td>\n",
       "      <td>153</td>\n",
       "      <td>...</td>\n",
       "      <td>207</td>\n",
       "      <td>207</td>\n",
       "      <td>207</td>\n",
       "      <td>207</td>\n",
       "      <td>206</td>\n",
       "      <td>206</td>\n",
       "      <td>206</td>\n",
       "      <td>204</td>\n",
       "      <td>203</td>\n",
       "      <td>202</td>\n",
       "    </tr>\n",
       "    <tr>\n",
       "      <th>1</th>\n",
       "      <td>6</td>\n",
       "      <td>155</td>\n",
       "      <td>157</td>\n",
       "      <td>156</td>\n",
       "      <td>156</td>\n",
       "      <td>156</td>\n",
       "      <td>157</td>\n",
       "      <td>156</td>\n",
       "      <td>158</td>\n",
       "      <td>158</td>\n",
       "      <td>...</td>\n",
       "      <td>69</td>\n",
       "      <td>149</td>\n",
       "      <td>128</td>\n",
       "      <td>87</td>\n",
       "      <td>94</td>\n",
       "      <td>163</td>\n",
       "      <td>175</td>\n",
       "      <td>103</td>\n",
       "      <td>135</td>\n",
       "      <td>149</td>\n",
       "    </tr>\n",
       "    <tr>\n",
       "      <th>2</th>\n",
       "      <td>2</td>\n",
       "      <td>187</td>\n",
       "      <td>188</td>\n",
       "      <td>188</td>\n",
       "      <td>187</td>\n",
       "      <td>187</td>\n",
       "      <td>186</td>\n",
       "      <td>187</td>\n",
       "      <td>188</td>\n",
       "      <td>187</td>\n",
       "      <td>...</td>\n",
       "      <td>202</td>\n",
       "      <td>201</td>\n",
       "      <td>200</td>\n",
       "      <td>199</td>\n",
       "      <td>198</td>\n",
       "      <td>199</td>\n",
       "      <td>198</td>\n",
       "      <td>195</td>\n",
       "      <td>194</td>\n",
       "      <td>195</td>\n",
       "    </tr>\n",
       "    <tr>\n",
       "      <th>3</th>\n",
       "      <td>2</td>\n",
       "      <td>211</td>\n",
       "      <td>211</td>\n",
       "      <td>212</td>\n",
       "      <td>212</td>\n",
       "      <td>211</td>\n",
       "      <td>210</td>\n",
       "      <td>211</td>\n",
       "      <td>210</td>\n",
       "      <td>210</td>\n",
       "      <td>...</td>\n",
       "      <td>235</td>\n",
       "      <td>234</td>\n",
       "      <td>233</td>\n",
       "      <td>231</td>\n",
       "      <td>230</td>\n",
       "      <td>226</td>\n",
       "      <td>225</td>\n",
       "      <td>222</td>\n",
       "      <td>229</td>\n",
       "      <td>163</td>\n",
       "    </tr>\n",
       "    <tr>\n",
       "      <th>4</th>\n",
       "      <td>13</td>\n",
       "      <td>164</td>\n",
       "      <td>167</td>\n",
       "      <td>170</td>\n",
       "      <td>172</td>\n",
       "      <td>176</td>\n",
       "      <td>179</td>\n",
       "      <td>180</td>\n",
       "      <td>184</td>\n",
       "      <td>185</td>\n",
       "      <td>...</td>\n",
       "      <td>92</td>\n",
       "      <td>105</td>\n",
       "      <td>105</td>\n",
       "      <td>108</td>\n",
       "      <td>133</td>\n",
       "      <td>163</td>\n",
       "      <td>157</td>\n",
       "      <td>163</td>\n",
       "      <td>164</td>\n",
       "      <td>179</td>\n",
       "    </tr>\n",
       "  </tbody>\n",
       "</table>\n",
       "<p>5 rows × 785 columns</p>\n",
       "</div>"
      ],
      "text/plain": [
       "   label  pixel1  pixel2  pixel3  pixel4  pixel5  pixel6  pixel7  pixel8  \\\n",
       "0      3     107     118     127     134     139     143     146     150   \n",
       "1      6     155     157     156     156     156     157     156     158   \n",
       "2      2     187     188     188     187     187     186     187     188   \n",
       "3      2     211     211     212     212     211     210     211     210   \n",
       "4     13     164     167     170     172     176     179     180     184   \n",
       "\n",
       "   pixel9  ...  pixel775  pixel776  pixel777  pixel778  pixel779  pixel780  \\\n",
       "0     153  ...       207       207       207       207       206       206   \n",
       "1     158  ...        69       149       128        87        94       163   \n",
       "2     187  ...       202       201       200       199       198       199   \n",
       "3     210  ...       235       234       233       231       230       226   \n",
       "4     185  ...        92       105       105       108       133       163   \n",
       "\n",
       "   pixel781  pixel782  pixel783  pixel784  \n",
       "0       206       204       203       202  \n",
       "1       175       103       135       149  \n",
       "2       198       195       194       195  \n",
       "3       225       222       229       163  \n",
       "4       157       163       164       179  \n",
       "\n",
       "[5 rows x 785 columns]"
      ]
     },
     "execution_count": 4,
     "metadata": {},
     "output_type": "execute_result"
    }
   ],
   "source": [
    "train_ds.head()"
   ]
  },
  {
   "cell_type": "code",
   "execution_count": 5,
   "id": "4cfc834f",
   "metadata": {
    "execution": {
     "iopub.execute_input": "2023-12-24T13:02:47.424628Z",
     "iopub.status.busy": "2023-12-24T13:02:47.424201Z",
     "iopub.status.idle": "2023-12-24T13:02:47.441638Z",
     "shell.execute_reply": "2023-12-24T13:02:47.440037Z"
    },
    "papermill": {
     "duration": 0.030951,
     "end_time": "2023-12-24T13:02:47.445070",
     "exception": false,
     "start_time": "2023-12-24T13:02:47.414119",
     "status": "completed"
    },
    "tags": []
   },
   "outputs": [],
   "source": [
    "y_train = train_ds['label']\n",
    "y_test = test_ds['label']\n",
    "del train_ds['label']\n",
    "del test_ds['label']"
   ]
  },
  {
   "cell_type": "code",
   "execution_count": 6,
   "id": "686b6a70",
   "metadata": {
    "execution": {
     "iopub.execute_input": "2023-12-24T13:02:47.464693Z",
     "iopub.status.busy": "2023-12-24T13:02:47.464269Z",
     "iopub.status.idle": "2023-12-24T13:02:47.491384Z",
     "shell.execute_reply": "2023-12-24T13:02:47.490461Z"
    },
    "papermill": {
     "duration": 0.042002,
     "end_time": "2023-12-24T13:02:47.495509",
     "exception": false,
     "start_time": "2023-12-24T13:02:47.453507",
     "status": "completed"
    },
    "tags": []
   },
   "outputs": [],
   "source": [
    "# this gonna generate one hot encoding\n",
    "from sklearn.preprocessing import LabelBinarizer\n",
    "lb = LabelBinarizer()\n",
    "y_train = lb.fit_transform(y_train)\n",
    "y_test = lb.fit_transform(y_test)"
   ]
  },
  {
   "cell_type": "code",
   "execution_count": 7,
   "id": "f2989194",
   "metadata": {
    "execution": {
     "iopub.execute_input": "2023-12-24T13:02:47.514028Z",
     "iopub.status.busy": "2023-12-24T13:02:47.513607Z",
     "iopub.status.idle": "2023-12-24T13:02:47.614462Z",
     "shell.execute_reply": "2023-12-24T13:02:47.613040Z"
    },
    "papermill": {
     "duration": 0.114342,
     "end_time": "2023-12-24T13:02:47.617804",
     "exception": false,
     "start_time": "2023-12-24T13:02:47.503462",
     "status": "completed"
    },
    "tags": []
   },
   "outputs": [],
   "source": [
    "x_train = train_ds.values\n",
    "x_test = test_ds.values"
   ]
  },
  {
   "cell_type": "code",
   "execution_count": 8,
   "id": "4d412a62",
   "metadata": {
    "execution": {
     "iopub.execute_input": "2023-12-24T13:02:47.635880Z",
     "iopub.status.busy": "2023-12-24T13:02:47.635343Z",
     "iopub.status.idle": "2023-12-24T13:02:47.770976Z",
     "shell.execute_reply": "2023-12-24T13:02:47.769437Z"
    },
    "papermill": {
     "duration": 0.148351,
     "end_time": "2023-12-24T13:02:47.773934",
     "exception": false,
     "start_time": "2023-12-24T13:02:47.625583",
     "status": "completed"
    },
    "tags": []
   },
   "outputs": [],
   "source": [
    "# normalizing by doing this it'll be easier for neural network\n",
    "\n",
    "x_train = x_train/255\n",
    "x_test = x_test/255"
   ]
  },
  {
   "cell_type": "code",
   "execution_count": 9,
   "id": "d498e102",
   "metadata": {
    "execution": {
     "iopub.execute_input": "2023-12-24T13:02:47.790877Z",
     "iopub.status.busy": "2023-12-24T13:02:47.790325Z",
     "iopub.status.idle": "2023-12-24T13:02:47.802577Z",
     "shell.execute_reply": "2023-12-24T13:02:47.800460Z"
    },
    "papermill": {
     "duration": 0.025318,
     "end_time": "2023-12-24T13:02:47.806695",
     "exception": false,
     "start_time": "2023-12-24T13:02:47.781377",
     "status": "completed"
    },
    "tags": []
   },
   "outputs": [
    {
     "data": {
      "text/plain": [
       "(27455, 784)"
      ]
     },
     "execution_count": 9,
     "metadata": {},
     "output_type": "execute_result"
    }
   ],
   "source": [
    "x_train.shape"
   ]
  },
  {
   "cell_type": "code",
   "execution_count": 10,
   "id": "2e5f9b3d",
   "metadata": {
    "execution": {
     "iopub.execute_input": "2023-12-24T13:02:47.825797Z",
     "iopub.status.busy": "2023-12-24T13:02:47.825350Z",
     "iopub.status.idle": "2023-12-24T13:02:47.830566Z",
     "shell.execute_reply": "2023-12-24T13:02:47.829607Z"
    },
    "papermill": {
     "duration": 0.019209,
     "end_time": "2023-12-24T13:02:47.835378",
     "exception": false,
     "start_time": "2023-12-24T13:02:47.816169",
     "status": "completed"
    },
    "tags": []
   },
   "outputs": [],
   "source": [
    "x_train = x_train.reshape(-1, 28, 28, 1)\n",
    "x_test = x_test.reshape(-1, 28, 28, 1)"
   ]
  },
  {
   "cell_type": "code",
   "execution_count": 11,
   "id": "0ba38e36",
   "metadata": {
    "execution": {
     "iopub.execute_input": "2023-12-24T13:02:47.862121Z",
     "iopub.status.busy": "2023-12-24T13:02:47.861352Z",
     "iopub.status.idle": "2023-12-24T13:02:50.086984Z",
     "shell.execute_reply": "2023-12-24T13:02:50.085507Z"
    },
    "papermill": {
     "duration": 2.241917,
     "end_time": "2023-12-24T13:02:50.089743",
     "exception": false,
     "start_time": "2023-12-24T13:02:47.847826",
     "status": "completed"
    },
    "tags": []
   },
   "outputs": [
    {
     "data": {
      "image/png": "[encoded data removed]",
      "text/plain": [
       "<Figure size 1000x1000 with 10 Axes>"
      ]
     },
     "metadata": {},
     "output_type": "display_data"
    }
   ],
   "source": [
    "f, ax = plt.subplots(2,5) \n",
    "f.set_size_inches(10, 10)\n",
    "k = 0\n",
    "for i in range(2):\n",
    "    for j in range(5):\n",
    "        ax[i,j].imshow(x_train[k].reshape(28, 28) , cmap = \"gray\")\n",
    "#         ax[i, j].set_title(f\"{y_train[k]}\")\n",
    "        k += 1\n",
    "    plt.tight_layout()"
   ]
  },
  {
   "cell_type": "code",
   "execution_count": 12,
   "id": "07e1b319",
   "metadata": {
    "execution": {
     "iopub.execute_input": "2023-12-24T13:02:50.107572Z",
     "iopub.status.busy": "2023-12-24T13:02:50.107184Z",
     "iopub.status.idle": "2023-12-24T13:02:50.184490Z",
     "shell.execute_reply": "2023-12-24T13:02:50.182923Z"
    },
    "papermill": {
     "duration": 0.089732,
     "end_time": "2023-12-24T13:02:50.187479",
     "exception": false,
     "start_time": "2023-12-24T13:02:50.097747",
     "status": "completed"
    },
    "tags": []
   },
   "outputs": [],
   "source": [
    "from keras.preprocessing.image import ImageDataGenerator\n",
    "\n",
    "# To avoid overfitting we can expand our data artificially\n",
    "\n",
    "datagen = ImageDataGenerator(\n",
    "    rotation_range=40, \n",
    "    width_shift_range=0.2, \n",
    "    height_shift_range=0.2, \n",
    "    zoom_range=0.2, \n",
    "    shear_range=0.2,\n",
    "    horizontal_flip=True, \n",
    "    fill_mode='nearest'\n",
    ")\n",
    "\n",
    "datagen.fit(x_train)"
   ]
  },
  {
   "cell_type": "code",
   "execution_count": 13,
   "id": "149d835f",
   "metadata": {
    "execution": {
     "iopub.execute_input": "2023-12-24T13:02:50.205585Z",
     "iopub.status.busy": "2023-12-24T13:02:50.205186Z",
     "iopub.status.idle": "2023-12-24T13:02:50.560168Z",
     "shell.execute_reply": "2023-12-24T13:02:50.558761Z"
    },
    "papermill": {
     "duration": 0.367928,
     "end_time": "2023-12-24T13:02:50.563524",
     "exception": false,
     "start_time": "2023-12-24T13:02:50.195596",
     "status": "completed"
    },
    "tags": []
   },
   "outputs": [],
   "source": [
    "model = Sequential([\n",
    "    Conv2D(filters=64, kernel_size=(3, 3), strides = 1, padding='same', activation='relu', input_shape=(28, 28, 1)),\n",
    "    BatchNormalization(),\n",
    "    MaxPool2D((2, 2), strides=2, padding='same'),\n",
    "    Conv2D(filters=128, kernel_size=(3, 3), strides=1, padding='same', activation='relu'),\n",
    "    Dropout(0.2),\n",
    "    BatchNormalization(),\n",
    "    MaxPool2D((2, 2), strides=2, padding='same'),\n",
    "    Conv2D(filters=256, kernel_size=(3, 3), strides=1, padding='same', activation='relu'),\n",
    "    BatchNormalization(),\n",
    "    MaxPool2D((2, 2), strides=2, padding='same'),\n",
    "    Flatten(),\n",
    "    Dense(512, activation='relu'),\n",
    "    Dropout(0.3),\n",
    "    Dense(24, activation='softmax')\n",
    "])"
   ]
  },
  {
   "cell_type": "code",
   "execution_count": 14,
   "id": "480bbb51",
   "metadata": {
    "execution": {
     "iopub.execute_input": "2023-12-24T13:02:50.584821Z",
     "iopub.status.busy": "2023-12-24T13:02:50.583202Z",
     "iopub.status.idle": "2023-12-24T13:02:50.665378Z",
     "shell.execute_reply": "2023-12-24T13:02:50.664008Z"
    },
    "papermill": {
     "duration": 0.102799,
     "end_time": "2023-12-24T13:02:50.674949",
     "exception": false,
     "start_time": "2023-12-24T13:02:50.572150",
     "status": "completed"
    },
    "tags": []
   },
   "outputs": [
    {
     "name": "stdout",
     "output_type": "stream",
     "text": [
      "Model: \"sequential\"\n",
      "_________________________________________________________________\n",
      " Layer (type)                Output Shape              Param #   \n",
      "=================================================================\n",
      " conv2d (Conv2D)             (None, 28, 28, 64)        640       \n",
      "                                                                 \n",
      " batch_normalization (Batch  (None, 28, 28, 64)        256       \n",
      " Normalization)                                                  \n",
      "                                                                 \n",
      " max_pooling2d (MaxPooling2  (None, 14, 14, 64)        0         \n",
      " D)                                                              \n",
      "                                                                 \n",
      " conv2d_1 (Conv2D)           (None, 14, 14, 128)       73856     \n",
      "                                                                 \n",
      " dropout (Dropout)           (None, 14, 14, 128)       0         \n",
      "                                                                 \n",
      " batch_normalization_1 (Bat  (None, 14, 14, 128)       512       \n",
      " chNormalization)                                                \n",
      "                                                                 \n",
      " max_pooling2d_1 (MaxPoolin  (None, 7, 7, 128)         0         \n",
      " g2D)                                                            \n",
      "                                                                 \n",
      " conv2d_2 (Conv2D)           (None, 7, 7, 256)         295168    \n",
      "                                                                 \n",
      " batch_normalization_2 (Bat  (None, 7, 7, 256)         1024      \n",
      " chNormalization)                                                \n",
      "                                                                 \n",
      " max_pooling2d_2 (MaxPoolin  (None, 4, 4, 256)         0         \n",
      " g2D)                                                            \n",
      "                                                                 \n",
      " flatten (Flatten)           (None, 4096)              0         \n",
      "                                                                 \n",
      " dense (Dense)               (None, 512)               2097664   \n",
      "                                                                 \n",
      " dropout_1 (Dropout)         (None, 512)               0         \n",
      "                                                                 \n",
      " dense_1 (Dense)             (None, 24)                12312     \n",
      "                                                                 \n",
      "=================================================================\n",
      "Total params: 2481432 (9.47 MB)\n",
      "Trainable params: 2480536 (9.46 MB)\n",
      "Non-trainable params: 896 (3.50 KB)\n",
      "_________________________________________________________________\n"
     ]
    }
   ],
   "source": [
    "model.compile(optimizer = 'adam',\n",
    "                loss = 'categorical_crossentropy',\n",
    "                metrics=['accuracy'])\n",
    "model.summary()"
   ]
  },
  {
   "cell_type": "code",
   "execution_count": 15,
   "id": "3435f76b",
   "metadata": {
    "execution": {
     "iopub.execute_input": "2023-12-24T13:02:50.701451Z",
     "iopub.status.busy": "2023-12-24T13:02:50.700896Z",
     "iopub.status.idle": "2023-12-24T13:46:27.296258Z",
     "shell.execute_reply": "2023-12-24T13:46:27.295203Z"
    },
    "papermill": {
     "duration": 2616.612407,
     "end_time": "2023-12-24T13:46:27.299473",
     "exception": false,
     "start_time": "2023-12-24T13:02:50.687066",
     "status": "completed"
    },
    "tags": []
   },
   "outputs": [
    {
     "name": "stdout",
     "output_type": "stream",
     "text": [
      "Epoch 1/20\n",
      "215/215 [==============================] - 117s 533ms/step - loss: 2.6697 - accuracy: 0.2122 - val_loss: 7.4157 - val_accuracy: 0.0608\n",
      "Epoch 2/20\n",
      "215/215 [==============================] - 114s 532ms/step - loss: 1.4018 - accuracy: 0.5232 - val_loss: 15.0908 - val_accuracy: 0.0629\n",
      "Epoch 3/20\n",
      "215/215 [==============================] - 109s 508ms/step - loss: 0.8192 - accuracy: 0.7132 - val_loss: 0.7549 - val_accuracy: 0.7496\n",
      "Epoch 4/20\n",
      "215/215 [==============================] - 109s 507ms/step - loss: 0.5443 - accuracy: 0.8088 - val_loss: 0.5313 - val_accuracy: 0.7830\n",
      "Epoch 5/20\n",
      "215/215 [==============================] - 109s 509ms/step - loss: 0.4068 - accuracy: 0.8570 - val_loss: 0.2286 - val_accuracy: 0.9253\n",
      "Epoch 6/20\n",
      "215/215 [==============================] - 110s 511ms/step - loss: 0.3092 - accuracy: 0.8941 - val_loss: 0.0619 - val_accuracy: 0.9767\n",
      "Epoch 7/20\n",
      "215/215 [==============================] - 110s 510ms/step - loss: 0.2681 - accuracy: 0.9093 - val_loss: 0.1759 - val_accuracy: 0.9413\n",
      "Epoch 8/20\n",
      "215/215 [==============================] - 110s 511ms/step - loss: 0.2275 - accuracy: 0.9226 - val_loss: 0.1449 - val_accuracy: 0.9485\n",
      "Epoch 9/20\n",
      "215/215 [==============================] - 113s 527ms/step - loss: 0.1968 - accuracy: 0.9329 - val_loss: 1.1307 - val_accuracy: 0.7670\n",
      "Epoch 10/20\n",
      "215/215 [==============================] - 109s 506ms/step - loss: 0.1797 - accuracy: 0.9379 - val_loss: 0.1910 - val_accuracy: 0.9359\n",
      "Epoch 11/20\n",
      "215/215 [==============================] - 109s 507ms/step - loss: 0.1762 - accuracy: 0.9413 - val_loss: 1.0779 - val_accuracy: 0.7520\n",
      "Epoch 12/20\n",
      "215/215 [==============================] - 110s 512ms/step - loss: 0.1575 - accuracy: 0.9489 - val_loss: 0.4854 - val_accuracy: 0.8617\n",
      "Epoch 13/20\n",
      "215/215 [==============================] - 109s 509ms/step - loss: 0.1465 - accuracy: 0.9517 - val_loss: 0.6157 - val_accuracy: 0.8759\n",
      "Epoch 14/20\n",
      "215/215 [==============================] - 109s 506ms/step - loss: 0.1447 - accuracy: 0.9538 - val_loss: 0.2801 - val_accuracy: 0.9046\n",
      "Epoch 15/20\n",
      "215/215 [==============================] - 108s 504ms/step - loss: 0.1263 - accuracy: 0.9592 - val_loss: 0.3039 - val_accuracy: 0.9025\n",
      "Epoch 16/20\n",
      "215/215 [==============================] - 109s 504ms/step - loss: 0.1150 - accuracy: 0.9615 - val_loss: 2.6813 - val_accuracy: 0.6299\n",
      "Epoch 17/20\n",
      "215/215 [==============================] - 109s 506ms/step - loss: 0.1201 - accuracy: 0.9618 - val_loss: 0.0785 - val_accuracy: 0.9689\n",
      "Epoch 18/20\n",
      "215/215 [==============================] - 110s 511ms/step - loss: 0.1138 - accuracy: 0.9624 - val_loss: 0.0985 - val_accuracy: 0.9692\n",
      "Epoch 19/20\n",
      "215/215 [==============================] - 110s 511ms/step - loss: 0.1123 - accuracy: 0.9638 - val_loss: 0.0774 - val_accuracy: 0.9730\n",
      "Epoch 20/20\n",
      "215/215 [==============================] - 110s 512ms/step - loss: 0.1080 - accuracy: 0.9652 - val_loss: 0.0362 - val_accuracy: 0.9872\n"
     ]
    }
   ],
   "source": [
    "history = model.fit(datagen.flow(x_train, y_train, batch_size=128), epochs=20, validation_data = (x_test, y_test))"
   ]
  },
  {
   "cell_type": "code",
   "execution_count": 16,
   "id": "0629f723",
   "metadata": {
    "execution": {
     "iopub.execute_input": "2023-12-24T13:46:28.241287Z",
     "iopub.status.busy": "2023-12-24T13:46:28.240302Z",
     "iopub.status.idle": "2023-12-24T13:46:38.604980Z",
     "shell.execute_reply": "2023-12-24T13:46:38.603292Z"
    },
    "papermill": {
     "duration": 10.836061,
     "end_time": "2023-12-24T13:46:38.607998",
     "exception": false,
     "start_time": "2023-12-24T13:46:27.771937",
     "status": "completed"
    },
    "tags": []
   },
   "outputs": [
    {
     "name": "stdout",
     "output_type": "stream",
     "text": [
      "225/225 [==============================] - 7s 31ms/step - loss: 0.0362 - accuracy: 0.9872\n",
      "Accuracy of model is 98.72 %\n"
     ]
    }
   ],
   "source": [
    "print(f\"Accuracy of model is {model.evaluate(x_test, y_test)[1]*100:.2f} %\")"
   ]
  },
  {
   "cell_type": "code",
   "execution_count": 17,
   "id": "a1765d40",
   "metadata": {
    "execution": {
     "iopub.execute_input": "2023-12-24T13:46:39.487549Z",
     "iopub.status.busy": "2023-12-24T13:46:39.486643Z",
     "iopub.status.idle": "2023-12-24T13:46:40.177304Z",
     "shell.execute_reply": "2023-12-24T13:46:40.175838Z"
    },
    "papermill": {
     "duration": 1.1355,
     "end_time": "2023-12-24T13:46:40.181781",
     "exception": false,
     "start_time": "2023-12-24T13:46:39.046281",
     "status": "completed"
    },
    "tags": []
   },
   "outputs": [
    {
     "data": {
      "image/png": "[encoded data removed]",
      "text/plain": [
       "<Figure size 640x480 with 1 Axes>"
      ]
     },
     "metadata": {},
     "output_type": "display_data"
    },
    {
     "data": {
      "image/png": "[encoded data removed]",
      "text/plain": [
       "<Figure size 640x480 with 1 Axes>"
      ]
     },
     "metadata": {},
     "output_type": "display_data"
    }
   ],
   "source": [
    "acc = history.history['accuracy']\n",
    "loss = history.history['loss']\n",
    "val_acc = history.history['val_accuracy']\n",
    "val_loss = history.history['val_loss']\n",
    "\n",
    "epochs = range(len(acc))\n",
    "\n",
    "plt.plot(epochs, acc, 'r', label='Training accuracy')\n",
    "plt.plot(epochs, val_acc, 'b', label='Validation accuracy')\n",
    "plt.title('Training and validation accuracy')\n",
    "plt.legend()\n",
    "plt.figure()\n",
    "\n",
    "plt.plot(epochs, loss, 'r', label='Training Loss')\n",
    "plt.plot(epochs, val_loss, 'b', label='Validation Loss')\n",
    "plt.title('Training and validation loss')\n",
    "plt.legend()\n",
    "\n",
    "plt.show()"
   ]
  },
  {
   "cell_type": "code",
   "execution_count": null,
   "id": "b993729e",
   "metadata": {
    "papermill": {
     "duration": 0.613366,
     "end_time": "2023-12-24T13:46:41.299475",
     "exception": false,
     "start_time": "2023-12-24T13:46:40.686109",
     "status": "completed"
    },
    "tags": []
   },
   "outputs": [],
   "source": []
  }
 ],
 "metadata": {
  "kaggle": {
   "accelerator": "none",
   "dataSources": [
    {
     "datasetId": 3258,
     "sourceId": 5337,
     "sourceType": "datasetVersion"
    }
   ],
   "dockerImageVersionId": 30626,
   "isGpuEnabled": false,
   "isInternetEnabled": true,
   "language": "python",
   "sourceType": "notebook"
  },
  "kernelspec": {
   "display_name": "Python 3",
   "language": "python",
   "name": "python3"
  },
  "language_info": {
   "codemirror_mode": {
    "name": "ipython",
    "version": 3
   },
   "file_extension": ".py",
   "mimetype": "text/x-python",
   "name": "python",
   "nbconvert_exporter": "python",
   "pygments_lexer": "ipython3",
   "version": "3.10.12"
  },
  "papermill": {
   "default_parameters": {},
   "duration": 2666.949606,
   "end_time": "2023-12-24T13:46:44.635514",
   "environment_variables": {},
   "exception": null,
   "input_path": "__notebook__.ipynb",
   "output_path": "__notebook__.ipynb",
   "parameters": {},
   "start_time": "2023-12-24T13:02:17.685908",
   "version": "2.4.0"
  }
 },
 "nbformat": 4,
 "nbformat_minor": 5
}
